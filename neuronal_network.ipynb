{
 "cells": [
  {
   "cell_type": "code",
   "execution_count": 3,
   "metadata": {},
   "outputs": [],
   "source": [
    "import numpy as np\n",
    "import scipy as sc\n",
    "import matplotlib.pyplot as plt\n",
    "\n",
    "from sklearn.datasets import make_circles"
   ]
  },
  {
   "cell_type": "code",
   "execution_count": 8,
   "metadata": {},
   "outputs": [
    {
     "data": {
      "image/png": "[encoded data removed]",
      "text/plain": [
       "<Figure size 432x288 with 1 Axes>"
      ]
     },
     "metadata": {
      "needs_background": "light"
     },
     "output_type": "display_data"
    }
   ],
   "source": [
    "n_data = 1000\n",
    "\n",
    "X,Y = make_circles(n_samples=n_data, factor=0.5, noise=0.05)\n",
    "\n",
    "plt.scatter(X[Y==0, 0], X[Y==0, 1])\n",
    "plt.scatter(X[Y==1, 0], X[Y==1, 1])\n",
    "\n",
    "plt.axis(\"equal\")\n",
    "plt.show()"
   ]
  },
  {
   "cell_type": "code",
   "execution_count": 169,
   "metadata": {},
   "outputs": [],
   "source": [
    "class NeuronalLayer():\n",
    "    def __init__(self, nConn, nNeurons, actFunction):\n",
    "        \n",
    "        self.actFunction = actFunction\n",
    "        \n",
    "        self.nConn = nConn\n",
    "        self.nNeurons = nNeurons\n",
    "        \n",
    "        self.W = np.random.rand(nConn, nNeurons)\n",
    "        self.b = np.random.rand(1, nNeurons)\n",
    "    \n",
    "    def forward(self, inputs):\n",
    "        self.output = self.actFunction[0](inputs @ self.W)\n",
    "    \n",
    "    def getOutput(self):\n",
    "        return self.output\n",
    "    \n",
    "    def info(self):\n",
    "        return self.nConn, self.nNeurons\n",
    "    \n",
    "    def puDelta(self, delta):\n",
    "        self.delta = delta\n",
    "    \n",
    "    def getW(self):\n",
    "        return self.W\n",
    "    \n",
    "    def getActFunction(self):\n",
    "        return self.actFunction\n",
    "        \n",
    "\n",
    "        "
   ]
  },
  {
   "cell_type": "code",
   "execution_count": 113,
   "metadata": {},
   "outputs": [
    {
     "name": "stdout",
     "output_type": "stream",
     "text": [
      "9.0\n"
     ]
    }
   ],
   "source": [
    "relu = (lambda x: 1 / (1 + np.e ** (-x)),\n",
    "        lambda x: x * (1 - x))\n",
    "\n",
    "cost = (lambda Ye, Yg: np.mean((Ye - Yg)**2),\n",
    "        lambda Ye, Yg: Ye - Yg)\n",
    "\n",
    "_x = np.linspace(-5, 5, 100)\n",
    "_y = np.linspace(-5, 5, 100) + 1\n",
    "\n",
    "print (cost[0](_x, _y))"
   ]
  },
  {
   "cell_type": "code",
   "execution_count": 170,
   "metadata": {},
   "outputs": [],
   "source": [
    "#Creamos la red neuronal - Array de capas\n",
    "\n",
    "nInput = 2\n",
    "topology = [2, 5, 8, 3, 1]\n",
    "\n",
    "neuronalNetwork = []\n",
    "\n",
    "for l in range(len(topology)):\n",
    "    if (l == 0):\n",
    "        neuronalLayer = NeuronalLayer(nInput, topology[l], relu[0])\n",
    "    else:\n",
    "        neuronalLayer = NeuronalLayer(topology[l - 1], topology[l], relu[0])\n",
    "    neuronalNetwork.append(neuronalLayer)\n",
    "\n"
   ]
  },
  {
   "cell_type": "code",
   "execution_count": 171,
   "metadata": {},
   "outputs": [
    {
     "ename": "SyntaxError",
     "evalue": "invalid syntax (<ipython-input-171-006cff26ffac>, line 16)",
     "output_type": "error",
     "traceback": [
      "\u001b[1;36m  File \u001b[1;32m\"<ipython-input-171-006cff26ffac>\"\u001b[1;36m, line \u001b[1;32m16\u001b[0m\n\u001b[1;33m    cost[1](Y[index], layer.getOutput()) *\u001b[0m\n\u001b[1;37m                                           ^\u001b[0m\n\u001b[1;31mSyntaxError\u001b[0m\u001b[1;31m:\u001b[0m invalid syntax\n"
     ]
    }
   ],
   "source": [
    "\n",
    "\n",
    "for index, x in enumerate(X):\n",
    "    \n",
    "    #Hacemos el forward\n",
    "    inputs = x\n",
    "    \n",
    "    for l in range(len(neuronalNetwork)):\n",
    "        if (l == 0):\n",
    "            neuronalNetwork[l].forward(inputs)\n",
    "        else:\n",
    "            neuronalNetwork[l].forward(neuronalNetwork[l - 1].getOutput())\n",
    "\n",
    "\n",
    "    #Backpropagation\n",
    "    for l, layer in enumerate(reversed(neuronalNetwork)):\n",
    "        if (l == 0):\n",
    "            cost[1](Y[index], layer.getOutput()) * layer.getActFunction[1]\n",
    "            \n",
    "            \n",
    "    "
   ]
  },
  {
   "cell_type": "code",
   "execution_count": 95,
   "metadata": {},
   "outputs": [
    {
     "name": "stdout",
     "output_type": "stream",
     "text": [
      "[[11.14947071 17.53438544]]\n"
     ]
    }
   ],
   "source": []
  },
  {
   "cell_type": "code",
   "execution_count": 102,
   "metadata": {},
   "outputs": [
    {
     "name": "stdout",
     "output_type": "stream",
     "text": [
      "<__main__.NeuronalLayer object at 0x0000010FAB239190>\n",
      "<__main__.NeuronalLayer object at 0x0000010FAB239DF0>\n",
      "<__main__.NeuronalLayer object at 0x0000010FAB239B80>\n",
      "<__main__.NeuronalLayer object at 0x0000010FAB239130>\n",
      "<__main__.NeuronalLayer object at 0x0000010FAB2412B0>\n"
     ]
    }
   ],
   "source": [
    "\n",
    "\n",
    "    "
   ]
  },
  {
   "cell_type": "code",
   "execution_count": null,
   "metadata": {},
   "outputs": [],
   "source": []
  }
 ],
 "metadata": {
  "kernelspec": {
   "display_name": "Python 3",
   "language": "python",
   "name": "python3"
  },
  "language_info": {
   "codemirror_mode": {
    "name": "ipython",
    "version": 3
   },
   "file_extension": ".py",
   "mimetype": "text/x-python",
   "name": "python",
   "nbconvert_exporter": "python",
   "pygments_lexer": "ipython3",
   "version": "3.8.3"
  }
 },
 "nbformat": 4,
 "nbformat_minor": 4
}
